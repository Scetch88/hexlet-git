{
 "cells": [
  {
   "cell_type": "markdown",
   "id": "cc92e43c",
   "metadata": {
    "execution": {
     "iopub.execute_input": "2023-01-07T10:22:22.375007Z",
     "iopub.status.busy": "2023-01-07T10:22:22.374397Z",
     "iopub.status.idle": "2023-01-07T10:22:22.978620Z",
     "shell.execute_reply": "2023-01-07T10:22:22.977677Z",
     "shell.execute_reply.started": "2023-01-07T10:22:22.374892Z"
    }
   },
   "source": [
    "# Making model"
   ]
  },
  {
   "cell_type": "code",
   "execution_count": null,
   "id": "2e1456e5",
   "metadata": {},
   "outputs": [],
   "source": [
    "import pandas as pd\n",
    "import numpy as np\n",
    "from sqlalchemy import create_engine\n",
    "from datetime import datetime\n",
    "from datetime import date\n",
    "from sklearn.model_selection import train_test_split\n",
    "import warnings\n",
    "warnings.filterwarnings('ignore')"
   ]
  },
  {
   "cell_type": "code",
   "execution_count": 2,
   "id": "c448b4c8",
   "metadata": {
    "execution": {
     "iopub.execute_input": "2023-01-07T10:22:22.981366Z",
     "iopub.status.busy": "2023-01-07T10:22:22.980789Z",
     "iopub.status.idle": "2023-01-07T10:22:34.847270Z",
     "shell.execute_reply": "2023-01-07T10:22:34.846159Z",
     "shell.execute_reply.started": "2023-01-07T10:22:22.981329Z"
    }
   },
   "outputs": [
    {
     "name": "stdout",
     "output_type": "stream",
     "text": [
      "Collecting psycopg2-binary\n",
      "  Downloading psycopg2_binary-2.9.5-cp37-cp37m-manylinux_2_17_x86_64.manylinux2014_x86_64.whl (3.0 MB)\n",
      "\u001b[2K     \u001b[90m━━━━━━━━━━━━━━━━━━━━━━━━━━━━━━━━━━━━━━━━\u001b[0m \u001b[32m3.0/3.0 MB\u001b[0m \u001b[31m8.0 MB/s\u001b[0m eta \u001b[36m0:00:00\u001b[0m00:01\u001b[0m00:01\u001b[0m\n",
      "\u001b[?25hInstalling collected packages: psycopg2-binary\n",
      "Successfully installed psycopg2-binary-2.9.5\n",
      "\u001b[33mWARNING: Running pip as the 'root' user can result in broken permissions and conflicting behaviour with the system package manager. It is recommended to use a virtual environment instead: https://pip.pypa.io/warnings/venv\u001b[0m\u001b[33m\n",
      "\u001b[0m"
     ]
    }
   ],
   "source": [
    "!pip install psycopg2-binary"
   ]
  },
  {
   "cell_type": "code",
   "execution_count": 3,
   "id": "1241b413",
   "metadata": {
    "execution": {
     "iopub.execute_input": "2023-01-07T10:22:34.848982Z",
     "iopub.status.busy": "2023-01-07T10:22:34.848668Z",
     "iopub.status.idle": "2023-01-07T10:22:34.855469Z",
     "shell.execute_reply": "2023-01-07T10:22:34.854386Z",
     "shell.execute_reply.started": "2023-01-07T10:22:34.848952Z"
    },
    "scrolled": true
   },
   "outputs": [
    {
     "name": "stdout",
     "output_type": "stream",
     "text": [
      "pandas==1.3.5\n",
      "numpy==1.21.6\n"
     ]
    }
   ],
   "source": [
    "print('pandas=='+ pd.__version__)\n",
    "print('numpy=='+ np.__version__)"
   ]
  },
  {
   "cell_type": "code",
   "execution_count": 4,
   "id": "ec982343",
   "metadata": {
    "execution": {
     "iopub.execute_input": "2023-01-07T10:22:34.857458Z",
     "iopub.status.busy": "2023-01-07T10:22:34.857037Z",
     "iopub.status.idle": "2023-01-07T10:22:34.866169Z",
     "shell.execute_reply": "2023-01-07T10:22:34.865158Z",
     "shell.execute_reply.started": "2023-01-07T10:22:34.857424Z"
    }
   },
   "outputs": [],
   "source": [
    "# Make loader of big data\n",
    "\n",
    "def batch_load_sql(query: str) -> pd.DataFrame:\n",
    "    CHUNKSIZE = 200000\n",
    "    engine = create_engine(\n",
    "        \"postgresql://robot-startml-ro:pheiph0hahj1Vaif@\"\n",
    "        \"postgres.lab.karpov.courses:6432/startml\"\n",
    "    )\n",
    "    conn = engine.connect().execution_options(stream_results=True)\n",
    "    chunks = []\n",
    "    i = 1\n",
    "    for chunk_dataframe in pd.read_sql(query, conn, chunksize=CHUNKSIZE):\n",
    "        chunks.append(chunk_dataframe)\n",
    "        print(f'Loaded ~{i*CHUNKSIZE/1000000} mln rows', end='\\r')\n",
    "        i+=1\n",
    "    conn.close()\n",
    "    return pd.concat(chunks, ignore_index=True)\n",
    "    \n",
    "  \n",
    "    \n",
    "def load_features(quary: str) -> pd.DataFrame:\n",
    "    return batch_load_sql(quary)"
   ]
  },
  {
   "cell_type": "code",
   "execution_count": 5,
   "id": "565a89ea",
   "metadata": {
    "execution": {
     "iopub.execute_input": "2023-01-07T10:22:34.869870Z",
     "iopub.status.busy": "2023-01-07T10:22:34.869608Z",
     "iopub.status.idle": "2023-01-07T10:22:46.122239Z",
     "shell.execute_reply": "2023-01-07T10:22:46.120646Z",
     "shell.execute_reply.started": "2023-01-07T10:22:34.869847Z"
    }
   },
   "outputs": [
    {
     "name": "stdout",
     "output_type": "stream",
     "text": [
      "Loaded ~0.2 mln rows\r"
     ]
    }
   ],
   "source": [
    "# Load prepared user and post DataFrames\n",
    "\n",
    "df_user = load_features(\"\"\"SELECT * FROM scetch_features_dates_lesson_22\"\"\")\n",
    "df_posts = load_features(\"\"\"SELECT post_id, topic, tfidf, watched_month, top_month  FROM scetch_posts_lesson_22\"\"\")\n",
    "del df_user['index']\n",
    "del df_user['os']\n",
    "del df_user['source']\n",
    "df_user['city'] = df_user['city'] * 10000"
   ]
  },
  {
   "cell_type": "code",
   "execution_count": 6,
   "id": "9c765e3a",
   "metadata": {
    "execution": {
     "iopub.execute_input": "2023-01-07T10:22:46.125199Z",
     "iopub.status.busy": "2023-01-07T10:22:46.124834Z",
     "iopub.status.idle": "2023-01-07T10:22:46.149536Z",
     "shell.execute_reply": "2023-01-07T10:22:46.148334Z",
     "shell.execute_reply.started": "2023-01-07T10:22:46.125167Z"
    },
    "scrolled": true
   },
   "outputs": [
    {
     "data": {
      "text/html": [
       "<div>\n",
       "<style scoped>\n",
       "    .dataframe tbody tr th:only-of-type {\n",
       "        vertical-align: middle;\n",
       "    }\n",
       "\n",
       "    .dataframe tbody tr th {\n",
       "        vertical-align: top;\n",
       "    }\n",
       "\n",
       "    .dataframe thead th {\n",
       "        text-align: right;\n",
       "    }\n",
       "</style>\n",
       "<table border=\"1\" class=\"dataframe\">\n",
       "  <thead>\n",
       "    <tr style=\"text-align: right;\">\n",
       "      <th></th>\n",
       "      <th>user_id</th>\n",
       "      <th>gender</th>\n",
       "      <th>age</th>\n",
       "      <th>country</th>\n",
       "      <th>city</th>\n",
       "      <th>exp_group</th>\n",
       "      <th>min</th>\n",
       "      <th>max</th>\n",
       "    </tr>\n",
       "  </thead>\n",
       "  <tbody>\n",
       "    <tr>\n",
       "      <th>0</th>\n",
       "      <td>200</td>\n",
       "      <td>1</td>\n",
       "      <td>34</td>\n",
       "      <td>7</td>\n",
       "      <td>5371.900826</td>\n",
       "      <td>3</td>\n",
       "      <td>2021-10-02 14:02:19</td>\n",
       "      <td>2021-12-29 15:24:59</td>\n",
       "    </tr>\n",
       "    <tr>\n",
       "      <th>1</th>\n",
       "      <td>201</td>\n",
       "      <td>0</td>\n",
       "      <td>37</td>\n",
       "      <td>7</td>\n",
       "      <td>5348.349921</td>\n",
       "      <td>0</td>\n",
       "      <td>2021-10-04 09:44:05</td>\n",
       "      <td>2021-12-29 08:30:54</td>\n",
       "    </tr>\n",
       "    <tr>\n",
       "      <th>2</th>\n",
       "      <td>202</td>\n",
       "      <td>1</td>\n",
       "      <td>17</td>\n",
       "      <td>7</td>\n",
       "      <td>5615.633749</td>\n",
       "      <td>4</td>\n",
       "      <td>2021-10-01 16:03:03</td>\n",
       "      <td>2021-12-29 21:44:30</td>\n",
       "    </tr>\n",
       "  </tbody>\n",
       "</table>\n",
       "</div>"
      ],
      "text/plain": [
       "   user_id  gender  age  country         city  exp_group                 min  \\\n",
       "0      200       1   34        7  5371.900826          3 2021-10-02 14:02:19   \n",
       "1      201       0   37        7  5348.349921          0 2021-10-04 09:44:05   \n",
       "2      202       1   17        7  5615.633749          4 2021-10-01 16:03:03   \n",
       "\n",
       "                  max  \n",
       "0 2021-12-29 15:24:59  \n",
       "1 2021-12-29 08:30:54  \n",
       "2 2021-12-29 21:44:30  "
      ]
     },
     "execution_count": 6,
     "metadata": {},
     "output_type": "execute_result"
    }
   ],
   "source": [
    "df_user.head(3)"
   ]
  },
  {
   "cell_type": "code",
   "execution_count": 7,
   "id": "ce81e968",
   "metadata": {
    "execution": {
     "iopub.execute_input": "2023-01-07T10:22:46.151803Z",
     "iopub.status.busy": "2023-01-07T10:22:46.151438Z",
     "iopub.status.idle": "2023-01-07T10:22:46.161826Z",
     "shell.execute_reply": "2023-01-07T10:22:46.160785Z",
     "shell.execute_reply.started": "2023-01-07T10:22:46.151767Z"
    }
   },
   "outputs": [
    {
     "data": {
      "text/html": [
       "<div>\n",
       "<style scoped>\n",
       "    .dataframe tbody tr th:only-of-type {\n",
       "        vertical-align: middle;\n",
       "    }\n",
       "\n",
       "    .dataframe tbody tr th {\n",
       "        vertical-align: top;\n",
       "    }\n",
       "\n",
       "    .dataframe thead th {\n",
       "        text-align: right;\n",
       "    }\n",
       "</style>\n",
       "<table border=\"1\" class=\"dataframe\">\n",
       "  <thead>\n",
       "    <tr style=\"text-align: right;\">\n",
       "      <th></th>\n",
       "      <th>post_id</th>\n",
       "      <th>topic</th>\n",
       "      <th>tfidf</th>\n",
       "      <th>watched_month</th>\n",
       "      <th>top_month</th>\n",
       "    </tr>\n",
       "  </thead>\n",
       "  <tbody>\n",
       "    <tr>\n",
       "      <th>0</th>\n",
       "      <td>1</td>\n",
       "      <td>0</td>\n",
       "      <td>58527</td>\n",
       "      <td>2717</td>\n",
       "      <td>381</td>\n",
       "    </tr>\n",
       "    <tr>\n",
       "      <th>1</th>\n",
       "      <td>2</td>\n",
       "      <td>0</td>\n",
       "      <td>12911</td>\n",
       "      <td>2424</td>\n",
       "      <td>246</td>\n",
       "    </tr>\n",
       "    <tr>\n",
       "      <th>2</th>\n",
       "      <td>3</td>\n",
       "      <td>0</td>\n",
       "      <td>13782</td>\n",
       "      <td>2746</td>\n",
       "      <td>426</td>\n",
       "    </tr>\n",
       "  </tbody>\n",
       "</table>\n",
       "</div>"
      ],
      "text/plain": [
       "   post_id  topic  tfidf  watched_month  top_month\n",
       "0        1      0  58527           2717        381\n",
       "1        2      0  12911           2424        246\n",
       "2        3      0  13782           2746        426"
      ]
     },
     "execution_count": 7,
     "metadata": {},
     "output_type": "execute_result"
    }
   ],
   "source": [
    "df_posts.head(3)"
   ]
  },
  {
   "cell_type": "markdown",
   "id": "8414304b",
   "metadata": {},
   "source": [
    "* int8 - Целые числа в диапазоне от -128 по 127 (числа размером 1 байт).\n",
    "* int16 - Целые числа в диапазоне от -32768 по 32767, (числа размером 2 байта).\n",
    "* int32 - Целые числа в диапазоне от -2147483648 по 2147483647, (числа размером 4 байта)."
   ]
  },
  {
   "cell_type": "code",
   "execution_count": 8,
   "id": "3a8c3729",
   "metadata": {
    "execution": {
     "iopub.execute_input": "2023-01-07T10:22:46.163869Z",
     "iopub.status.busy": "2023-01-07T10:22:46.163239Z",
     "iopub.status.idle": "2023-01-07T10:22:46.181680Z",
     "shell.execute_reply": "2023-01-07T10:22:46.180613Z",
     "shell.execute_reply.started": "2023-01-07T10:22:46.163833Z"
    },
    "scrolled": true
   },
   "outputs": [
    {
     "data": {
      "text/plain": [
       "user_id               int32\n",
       "gender                 int8\n",
       "age                    int8\n",
       "country                int8\n",
       "city                  int16\n",
       "exp_group              int8\n",
       "min          datetime64[ns]\n",
       "max          datetime64[ns]\n",
       "dtype: object"
      ]
     },
     "execution_count": 8,
     "metadata": {},
     "output_type": "execute_result"
    }
   ],
   "source": [
    "# Minimize user dataset\n",
    "df_user['user_id'] = df_user['user_id'].astype('int32')\n",
    "df_user['gender'] = df_user['gender'].astype('int8')\n",
    "df_user['age'] = df_user['age'].astype('int8')\n",
    "df_user['country'] = df_user['country'].astype('int8')\n",
    "df_user['city'] = df_user['city'].astype('int16')\n",
    "df_user['exp_group'] = df_user['exp_group'].astype('int8')\n",
    "df_user.dtypes"
   ]
  },
  {
   "cell_type": "code",
   "execution_count": 9,
   "id": "d67b7ba4",
   "metadata": {
    "execution": {
     "iopub.execute_input": "2023-01-07T10:22:46.183718Z",
     "iopub.status.busy": "2023-01-07T10:22:46.183371Z",
     "iopub.status.idle": "2023-01-07T10:22:46.196672Z",
     "shell.execute_reply": "2023-01-07T10:22:46.195763Z",
     "shell.execute_reply.started": "2023-01-07T10:22:46.183684Z"
    },
    "scrolled": true
   },
   "outputs": [
    {
     "data": {
      "text/plain": [
       "post_id          int16\n",
       "topic             int8\n",
       "tfidf            int32\n",
       "watched_month    int16\n",
       "top_month        int16\n",
       "dtype: object"
      ]
     },
     "execution_count": 9,
     "metadata": {},
     "output_type": "execute_result"
    }
   ],
   "source": [
    "# Minimize post dataset\n",
    "df_posts['post_id'] = df_posts['post_id'].astype('int16')\n",
    "df_posts['topic'] = df_posts['topic'].astype('int8')\n",
    "df_posts['tfidf'] = df_posts['tfidf'].astype('int32')\n",
    "df_posts['top_month'] = df_posts['top_month'].astype('int16')\n",
    "df_posts['watched_month'] = df_posts['watched_month'].astype('int16')\n",
    "df_posts.dtypes"
   ]
  },
  {
   "cell_type": "code",
   "execution_count": 10,
   "id": "8cab1034",
   "metadata": {
    "execution": {
     "iopub.execute_input": "2023-01-07T10:22:46.198715Z",
     "iopub.status.busy": "2023-01-07T10:22:46.198379Z",
     "iopub.status.idle": "2023-01-07T10:25:32.076245Z",
     "shell.execute_reply": "2023-01-07T10:25:32.075248Z",
     "shell.execute_reply.started": "2023-01-07T10:22:46.198682Z"
    }
   },
   "outputs": [
    {
     "name": "stdout",
     "output_type": "stream",
     "text": [
      "Loaded ~22.2 mln rows\r"
     ]
    }
   ],
   "source": [
    "# Load feed dataset\n",
    "df_feed = load_features(\"\"\"SELECT timestamp, user_id, post_id, target FROM public.feed_data WHERE (action='view') AND (timestamp > '2021-12-01')\"\"\")"
   ]
  },
  {
   "cell_type": "code",
   "execution_count": 11,
   "id": "41a47943",
   "metadata": {
    "execution": {
     "iopub.execute_input": "2023-01-07T10:25:32.078237Z",
     "iopub.status.busy": "2023-01-07T10:25:32.077843Z",
     "iopub.status.idle": "2023-01-07T10:25:32.418570Z",
     "shell.execute_reply": "2023-01-07T10:25:32.417487Z",
     "shell.execute_reply.started": "2023-01-07T10:25:32.078199Z"
    }
   },
   "outputs": [
    {
     "data": {
      "text/plain": [
       "timestamp    datetime64[ns]\n",
       "user_id               int32\n",
       "post_id               int16\n",
       "target                 int8\n",
       "dtype: object"
      ]
     },
     "execution_count": 11,
     "metadata": {},
     "output_type": "execute_result"
    }
   ],
   "source": [
    "# Minimize feed dataset\n",
    "df_feed['user_id'] = df_feed['user_id'].astype('int32')\n",
    "df_feed['post_id'] = df_feed['post_id'].astype('int16')\n",
    "df_feed['target'] = df_feed['target'].astype('int8')\n",
    "df_feed['timestamp'] = pd.to_datetime(df_feed['timestamp'])\n",
    "df_feed.dtypes"
   ]
  },
  {
   "cell_type": "code",
   "execution_count": 12,
   "id": "b4a522b0",
   "metadata": {
    "execution": {
     "iopub.execute_input": "2023-01-07T10:25:32.420505Z",
     "iopub.status.busy": "2023-01-07T10:25:32.420107Z",
     "iopub.status.idle": "2023-01-07T10:25:32.431204Z",
     "shell.execute_reply": "2023-01-07T10:25:32.430134Z",
     "shell.execute_reply.started": "2023-01-07T10:25:32.420471Z"
    },
    "scrolled": true
   },
   "outputs": [
    {
     "data": {
      "text/html": [
       "<div>\n",
       "<style scoped>\n",
       "    .dataframe tbody tr th:only-of-type {\n",
       "        vertical-align: middle;\n",
       "    }\n",
       "\n",
       "    .dataframe tbody tr th {\n",
       "        vertical-align: top;\n",
       "    }\n",
       "\n",
       "    .dataframe thead th {\n",
       "        text-align: right;\n",
       "    }\n",
       "</style>\n",
       "<table border=\"1\" class=\"dataframe\">\n",
       "  <thead>\n",
       "    <tr style=\"text-align: right;\">\n",
       "      <th></th>\n",
       "      <th>timestamp</th>\n",
       "      <th>user_id</th>\n",
       "      <th>post_id</th>\n",
       "      <th>target</th>\n",
       "    </tr>\n",
       "  </thead>\n",
       "  <tbody>\n",
       "    <tr>\n",
       "      <th>0</th>\n",
       "      <td>2021-12-14 15:17:11</td>\n",
       "      <td>100667</td>\n",
       "      <td>6464</td>\n",
       "      <td>0</td>\n",
       "    </tr>\n",
       "    <tr>\n",
       "      <th>1</th>\n",
       "      <td>2021-12-14 15:17:55</td>\n",
       "      <td>100667</td>\n",
       "      <td>3859</td>\n",
       "      <td>0</td>\n",
       "    </tr>\n",
       "    <tr>\n",
       "      <th>2</th>\n",
       "      <td>2021-12-14 15:19:46</td>\n",
       "      <td>100667</td>\n",
       "      <td>1354</td>\n",
       "      <td>0</td>\n",
       "    </tr>\n",
       "  </tbody>\n",
       "</table>\n",
       "</div>"
      ],
      "text/plain": [
       "            timestamp  user_id  post_id  target\n",
       "0 2021-12-14 15:17:11   100667     6464       0\n",
       "1 2021-12-14 15:17:55   100667     3859       0\n",
       "2 2021-12-14 15:19:46   100667     1354       0"
      ]
     },
     "execution_count": 12,
     "metadata": {},
     "output_type": "execute_result"
    }
   ],
   "source": [
    "df_feed.head(3)"
   ]
  },
  {
   "cell_type": "code",
   "execution_count": 13,
   "id": "4cfbcc74",
   "metadata": {
    "execution": {
     "iopub.execute_input": "2023-01-07T10:25:32.433617Z",
     "iopub.status.busy": "2023-01-07T10:25:32.432593Z",
     "iopub.status.idle": "2023-01-07T10:25:40.470806Z",
     "shell.execute_reply": "2023-01-07T10:25:40.469823Z",
     "shell.execute_reply.started": "2023-01-07T10:25:32.433581Z"
    }
   },
   "outputs": [],
   "source": [
    "# Merging users posts and feed\n",
    "\n",
    "df_feed = pd.merge(pd.merge(df_feed, df_user, on='user_id'), df_posts, on='post_id')\n",
    "del df_user\n",
    "del df_posts"
   ]
  },
  {
   "cell_type": "markdown",
   "id": "1fc1c078",
   "metadata": {},
   "source": [
    "# Adding features"
   ]
  },
  {
   "cell_type": "code",
   "execution_count": 14,
   "id": "e06d29c1",
   "metadata": {
    "execution": {
     "iopub.execute_input": "2023-01-07T10:25:40.476450Z",
     "iopub.status.busy": "2023-01-07T10:25:40.476154Z",
     "iopub.status.idle": "2023-01-07T10:26:19.751075Z",
     "shell.execute_reply": "2023-01-07T10:26:19.750067Z",
     "shell.execute_reply.started": "2023-01-07T10:25:40.476423Z"
    },
    "scrolled": true
   },
   "outputs": [],
   "source": [
    "df_feed['hour'] = df_feed['timestamp'].dt.hour.astype('int8')\n",
    "df_feed['dayofweek'] = df_feed['timestamp'].dt.dayofweek.astype('int8')\n",
    "\n",
    "\n",
    "# Difference for the previous view\n",
    "dt = df_feed.sort_values(['user_id', 'timestamp'], ascending=[False, True], kind=['mergesort', 'quicksort'])['timestamp'].diff().astype('timedelta64[s]')\n",
    "df_feed = df_feed.join(dt, how = 'inner', rsuffix = '_delta')\n",
    "df_feed['timestamp_delta'] = np.where(df_feed['timestamp_delta'] < 0, 0, df_feed['timestamp_delta'])\n",
    "df_feed['timestamp_delta'] = df_feed['timestamp_delta'].fillna(0)\n",
    "df_feed['timestamp_delta'] = df_feed['timestamp_delta'].astype('int32')\n",
    "\n",
    "# Adding counters\n",
    "df_feed['counter'] = ((df_feed['timestamp'] - df_feed['min']) / np.timedelta64(1, 's')).astype('int32')\n",
    "df_feed['delta'] = ((df_feed['max'] - df_feed['timestamp']) / np.timedelta64(1, 's')).astype('int32')\n",
    "del df_feed['timestamp']\n",
    "del df_feed['min']\n",
    "del df_feed['user_id']\n",
    "del df_feed['post_id']\n",
    "del df_feed['max']"
   ]
  },
  {
   "cell_type": "code",
   "execution_count": 15,
   "id": "0c72e330",
   "metadata": {
    "execution": {
     "iopub.execute_input": "2023-01-07T10:26:19.753020Z",
     "iopub.status.busy": "2023-01-07T10:26:19.752636Z",
     "iopub.status.idle": "2023-01-07T10:26:19.766199Z",
     "shell.execute_reply": "2023-01-07T10:26:19.765084Z",
     "shell.execute_reply.started": "2023-01-07T10:26:19.752984Z"
    },
    "scrolled": true
   },
   "outputs": [
    {
     "data": {
      "text/html": [
       "<div>\n",
       "<style scoped>\n",
       "    .dataframe tbody tr th:only-of-type {\n",
       "        vertical-align: middle;\n",
       "    }\n",
       "\n",
       "    .dataframe tbody tr th {\n",
       "        vertical-align: top;\n",
       "    }\n",
       "\n",
       "    .dataframe thead th {\n",
       "        text-align: right;\n",
       "    }\n",
       "</style>\n",
       "<table border=\"1\" class=\"dataframe\">\n",
       "  <thead>\n",
       "    <tr style=\"text-align: right;\">\n",
       "      <th></th>\n",
       "      <th>target</th>\n",
       "      <th>gender</th>\n",
       "      <th>age</th>\n",
       "      <th>country</th>\n",
       "      <th>city</th>\n",
       "      <th>exp_group</th>\n",
       "      <th>topic</th>\n",
       "      <th>tfidf</th>\n",
       "      <th>watched_month</th>\n",
       "      <th>top_month</th>\n",
       "      <th>hour</th>\n",
       "      <th>dayofweek</th>\n",
       "      <th>timestamp_delta</th>\n",
       "      <th>counter</th>\n",
       "      <th>delta</th>\n",
       "    </tr>\n",
       "  </thead>\n",
       "  <tbody>\n",
       "    <tr>\n",
       "      <th>0</th>\n",
       "      <td>0</td>\n",
       "      <td>1</td>\n",
       "      <td>19</td>\n",
       "      <td>10</td>\n",
       "      <td>5261</td>\n",
       "      <td>2</td>\n",
       "      <td>3</td>\n",
       "      <td>9417</td>\n",
       "      <td>2216</td>\n",
       "      <td>251</td>\n",
       "      <td>15</td>\n",
       "      <td>1</td>\n",
       "      <td>86</td>\n",
       "      <td>5598067</td>\n",
       "      <td>874014</td>\n",
       "    </tr>\n",
       "    <tr>\n",
       "      <th>1</th>\n",
       "      <td>0</td>\n",
       "      <td>0</td>\n",
       "      <td>36</td>\n",
       "      <td>7</td>\n",
       "      <td>5665</td>\n",
       "      <td>3</td>\n",
       "      <td>3</td>\n",
       "      <td>9417</td>\n",
       "      <td>2216</td>\n",
       "      <td>251</td>\n",
       "      <td>12</td>\n",
       "      <td>3</td>\n",
       "      <td>33</td>\n",
       "      <td>5343697</td>\n",
       "      <td>1023290</td>\n",
       "    </tr>\n",
       "    <tr>\n",
       "      <th>2</th>\n",
       "      <td>0</td>\n",
       "      <td>1</td>\n",
       "      <td>23</td>\n",
       "      <td>7</td>\n",
       "      <td>2831</td>\n",
       "      <td>0</td>\n",
       "      <td>3</td>\n",
       "      <td>9417</td>\n",
       "      <td>2216</td>\n",
       "      <td>251</td>\n",
       "      <td>15</td>\n",
       "      <td>2</td>\n",
       "      <td>56</td>\n",
       "      <td>7527011</td>\n",
       "      <td>1440</td>\n",
       "    </tr>\n",
       "    <tr>\n",
       "      <th>3</th>\n",
       "      <td>0</td>\n",
       "      <td>1</td>\n",
       "      <td>24</td>\n",
       "      <td>7</td>\n",
       "      <td>3406</td>\n",
       "      <td>3</td>\n",
       "      <td>3</td>\n",
       "      <td>9417</td>\n",
       "      <td>2216</td>\n",
       "      <td>251</td>\n",
       "      <td>11</td>\n",
       "      <td>2</td>\n",
       "      <td>138</td>\n",
       "      <td>5161124</td>\n",
       "      <td>1851698</td>\n",
       "    </tr>\n",
       "    <tr>\n",
       "      <th>4</th>\n",
       "      <td>0</td>\n",
       "      <td>0</td>\n",
       "      <td>44</td>\n",
       "      <td>7</td>\n",
       "      <td>3515</td>\n",
       "      <td>4</td>\n",
       "      <td>3</td>\n",
       "      <td>9417</td>\n",
       "      <td>2216</td>\n",
       "      <td>251</td>\n",
       "      <td>13</td>\n",
       "      <td>1</td>\n",
       "      <td>96</td>\n",
       "      <td>7542646</td>\n",
       "      <td>121940</td>\n",
       "    </tr>\n",
       "  </tbody>\n",
       "</table>\n",
       "</div>"
      ],
      "text/plain": [
       "   target  gender  age  country  city  exp_group  topic  tfidf  watched_month  \\\n",
       "0       0       1   19       10  5261          2      3   9417           2216   \n",
       "1       0       0   36        7  5665          3      3   9417           2216   \n",
       "2       0       1   23        7  2831          0      3   9417           2216   \n",
       "3       0       1   24        7  3406          3      3   9417           2216   \n",
       "4       0       0   44        7  3515          4      3   9417           2216   \n",
       "\n",
       "   top_month  hour  dayofweek  timestamp_delta  counter    delta  \n",
       "0        251    15          1               86  5598067   874014  \n",
       "1        251    12          3               33  5343697  1023290  \n",
       "2        251    15          2               56  7527011     1440  \n",
       "3        251    11          2              138  5161124  1851698  \n",
       "4        251    13          1               96  7542646   121940  "
      ]
     },
     "execution_count": 15,
     "metadata": {},
     "output_type": "execute_result"
    }
   ],
   "source": [
    "df_feed.head()"
   ]
  },
  {
   "cell_type": "code",
   "execution_count": null,
   "id": "da8b3fc8",
   "metadata": {},
   "outputs": [],
   "source": [
    "# Make simple split for time series. W/o stratification and shuffle\n",
    "y = df_feed['target']\n",
    "X = df_feed.drop(columns=['target'])\n",
    "del df_feed\n",
    "\n",
    "X_train, X_test, y_train, y_test = train_test_split(X, \n",
    "                                                    y, \n",
    "                                                    test_size=0.20,\n",
    "                                                    shuffle=False,\n",
    "                                                   # stratify=y\n",
    "                                                   )"
   ]
  },
  {
   "cell_type": "code",
   "execution_count": 17,
   "id": "cb49c954",
   "metadata": {
    "execution": {
     "iopub.execute_input": "2023-01-07T10:26:22.034651Z",
     "iopub.status.busy": "2023-01-07T10:26:22.034301Z",
     "iopub.status.idle": "2023-01-07T10:26:22.415873Z",
     "shell.execute_reply": "2023-01-07T10:26:22.414759Z",
     "shell.execute_reply.started": "2023-01-07T10:26:22.034614Z"
    }
   },
   "outputs": [
    {
     "data": {
      "text/plain": [
       "(0    19077815\n",
       " 1     3036970\n",
       " Name: target, dtype: int64,\n",
       " 0.1591885653571963)"
      ]
     },
     "execution_count": 17,
     "metadata": {},
     "output_type": "execute_result"
    }
   ],
   "source": [
    "# Checking stratification of data\n",
    "y.value_counts(), y.value_counts()[1] / y.value_counts()[0]"
   ]
  },
  {
   "cell_type": "code",
   "execution_count": 18,
   "id": "e40ef57a",
   "metadata": {
    "execution": {
     "iopub.execute_input": "2023-01-07T10:26:22.418313Z",
     "iopub.status.busy": "2023-01-07T10:26:22.417584Z",
     "iopub.status.idle": "2023-01-07T10:26:22.721746Z",
     "shell.execute_reply": "2023-01-07T10:26:22.720515Z",
     "shell.execute_reply.started": "2023-01-07T10:26:22.418239Z"
    }
   },
   "outputs": [
    {
     "data": {
      "text/plain": [
       "(0    15214794\n",
       " 1     2477034\n",
       " Name: target, dtype: int64,\n",
       " 0.16280430743919372)"
      ]
     },
     "execution_count": 18,
     "metadata": {},
     "output_type": "execute_result"
    }
   ],
   "source": [
    "# Checking stratification of data\n",
    "y_train.value_counts(), y_train.value_counts()[1] / y_train.value_counts()[0]"
   ]
  },
  {
   "cell_type": "code",
   "execution_count": 19,
   "id": "3abbbf04",
   "metadata": {
    "execution": {
     "iopub.execute_input": "2023-01-07T10:26:22.723841Z",
     "iopub.status.busy": "2023-01-07T10:26:22.723440Z",
     "iopub.status.idle": "2023-01-07T10:26:22.810011Z",
     "shell.execute_reply": "2023-01-07T10:26:22.809083Z",
     "shell.execute_reply.started": "2023-01-07T10:26:22.723805Z"
    }
   },
   "outputs": [
    {
     "data": {
      "text/plain": [
       "(0    3863021\n",
       " 1     559936\n",
       " Name: target, dtype: int64,\n",
       " 0.1449476976697771)"
      ]
     },
     "execution_count": 19,
     "metadata": {},
     "output_type": "execute_result"
    }
   ],
   "source": [
    "# Checking stratification of data\n",
    "y_test.value_counts(), y_test.value_counts()[1] / y_test.value_counts()[0]"
   ]
  },
  {
   "cell_type": "code",
   "execution_count": 20,
   "id": "1f40c6a2",
   "metadata": {
    "execution": {
     "iopub.execute_input": "2023-01-07T10:26:22.811849Z",
     "iopub.status.busy": "2023-01-07T10:26:22.811482Z",
     "iopub.status.idle": "2023-01-07T10:26:23.239092Z",
     "shell.execute_reply": "2023-01-07T10:26:23.238143Z",
     "shell.execute_reply.started": "2023-01-07T10:26:22.811812Z"
    }
   },
   "outputs": [],
   "source": [
    "import catboost as ctb\n",
    "\n",
    "CAT = ['hour', 'city', 'dayofweek', 'gender', 'country', 'exp_group', 'topic']\n",
    "CTB = ctb.CatBoostClassifier(iterations=1000,  \n",
    "                             cat_features = CAT, \n",
    "                             learning_rate=0.12, \n",
    "                             l2_leaf_reg=9, \n",
    "                             depth=12,\n",
    "                             used_ram_limit = '15gb',\n",
    "                             max_ctr_complexity = 1, \n",
    "                             early_stopping_rounds = 20,\n",
    "                             task_type=\"GPU\",\n",
    "                             auto_class_weights = 'Balanced'\n",
    "                             #class_weights = {0: (45/334), 1: (334/45)}\n",
    "                            )"
   ]
  },
  {
   "cell_type": "code",
   "execution_count": 21,
   "id": "1ace9916",
   "metadata": {
    "execution": {
     "iopub.execute_input": "2023-01-07T10:26:23.242017Z",
     "iopub.status.busy": "2023-01-07T10:26:23.240449Z",
     "iopub.status.idle": "2023-01-07T10:37:25.463258Z",
     "shell.execute_reply": "2023-01-07T10:37:25.462412Z",
     "shell.execute_reply.started": "2023-01-07T10:26:23.241978Z"
    }
   },
   "outputs": [
    {
     "name": "stdout",
     "output_type": "stream",
     "text": [
      "0:\tlearn: 0.6768424\ttest: 0.6745223\tbest: 0.6745223 (0)\ttotal: 482ms\tremaining: 8m 1s\n",
      "10:\tlearn: 0.6268174\ttest: 0.6170823\tbest: 0.6170823 (10)\ttotal: 5.42s\tremaining: 8m 7s\n",
      "20:\tlearn: 0.6204353\ttest: 0.6104052\tbest: 0.6104052 (20)\ttotal: 10.2s\tremaining: 7m 56s\n",
      "30:\tlearn: 0.6188187\ttest: 0.6086207\tbest: 0.6086207 (30)\ttotal: 14.9s\tremaining: 7m 47s\n",
      "40:\tlearn: 0.6177906\ttest: 0.6076520\tbest: 0.6076520 (40)\ttotal: 19.8s\tremaining: 7m 43s\n",
      "50:\tlearn: 0.6170825\ttest: 0.6071129\tbest: 0.6071129 (50)\ttotal: 24.8s\tremaining: 7m 40s\n",
      "60:\tlearn: 0.6164555\ttest: 0.6066098\tbest: 0.6066098 (60)\ttotal: 29.6s\tremaining: 7m 34s\n",
      "70:\tlearn: 0.6158107\ttest: 0.6061307\tbest: 0.6061307 (70)\ttotal: 34.3s\tremaining: 7m 29s\n",
      "80:\tlearn: 0.6151641\ttest: 0.6056259\tbest: 0.6056259 (80)\ttotal: 39.1s\tremaining: 7m 24s\n",
      "90:\tlearn: 0.6145597\ttest: 0.6051380\tbest: 0.6051380 (90)\ttotal: 43.8s\tremaining: 7m 17s\n",
      "100:\tlearn: 0.6141299\ttest: 0.6048140\tbest: 0.6048140 (100)\ttotal: 48.6s\tremaining: 7m 12s\n",
      "110:\tlearn: 0.6134577\ttest: 0.6043058\tbest: 0.6043058 (110)\ttotal: 53.7s\tremaining: 7m 9s\n",
      "120:\tlearn: 0.6128025\ttest: 0.6038759\tbest: 0.6038759 (120)\ttotal: 58.5s\tremaining: 7m 4s\n",
      "130:\tlearn: 0.6122035\ttest: 0.6034186\tbest: 0.6034186 (130)\ttotal: 1m 3s\tremaining: 7m\n",
      "140:\tlearn: 0.6117385\ttest: 0.6031513\tbest: 0.6031513 (140)\ttotal: 1m 8s\tremaining: 6m 55s\n",
      "150:\tlearn: 0.6110813\ttest: 0.6026091\tbest: 0.6026091 (150)\ttotal: 1m 13s\tremaining: 6m 50s\n",
      "160:\tlearn: 0.6103810\ttest: 0.6019708\tbest: 0.6019708 (160)\ttotal: 1m 17s\tremaining: 6m 45s\n",
      "170:\tlearn: 0.6098545\ttest: 0.6016137\tbest: 0.6016137 (170)\ttotal: 1m 22s\tremaining: 6m 40s\n",
      "180:\tlearn: 0.6090409\ttest: 0.6008580\tbest: 0.6008580 (180)\ttotal: 1m 27s\tremaining: 6m 36s\n",
      "190:\tlearn: 0.6083423\ttest: 0.6003270\tbest: 0.6003270 (190)\ttotal: 1m 32s\tremaining: 6m 31s\n",
      "200:\tlearn: 0.6078678\ttest: 0.6000087\tbest: 0.6000087 (200)\ttotal: 1m 37s\tremaining: 6m 26s\n",
      "210:\tlearn: 0.6072333\ttest: 0.5995515\tbest: 0.5995515 (210)\ttotal: 1m 42s\tremaining: 6m 21s\n",
      "220:\tlearn: 0.6067189\ttest: 0.5991908\tbest: 0.5991908 (220)\ttotal: 1m 46s\tremaining: 6m 17s\n",
      "230:\tlearn: 0.6059472\ttest: 0.5985119\tbest: 0.5985119 (230)\ttotal: 1m 51s\tremaining: 6m 11s\n",
      "240:\tlearn: 0.6053772\ttest: 0.5980818\tbest: 0.5980810 (239)\ttotal: 1m 56s\tremaining: 6m 8s\n",
      "250:\tlearn: 0.6047430\ttest: 0.5976269\tbest: 0.5976269 (250)\ttotal: 2m 1s\tremaining: 6m 3s\n",
      "260:\tlearn: 0.6042969\ttest: 0.5973327\tbest: 0.5973327 (260)\ttotal: 2m 6s\tremaining: 5m 58s\n",
      "270:\tlearn: 0.6037487\ttest: 0.5969820\tbest: 0.5969820 (270)\ttotal: 2m 11s\tremaining: 5m 53s\n",
      "280:\tlearn: 0.6031888\ttest: 0.5966008\tbest: 0.5966008 (280)\ttotal: 2m 16s\tremaining: 5m 48s\n",
      "290:\tlearn: 0.6025886\ttest: 0.5961068\tbest: 0.5961068 (290)\ttotal: 2m 21s\tremaining: 5m 43s\n",
      "300:\tlearn: 0.6019263\ttest: 0.5956007\tbest: 0.5956007 (300)\ttotal: 2m 25s\tremaining: 5m 38s\n",
      "310:\tlearn: 0.6011551\ttest: 0.5949108\tbest: 0.5949108 (310)\ttotal: 2m 30s\tremaining: 5m 34s\n",
      "320:\tlearn: 0.6004725\ttest: 0.5942930\tbest: 0.5942930 (320)\ttotal: 2m 35s\tremaining: 5m 28s\n",
      "330:\tlearn: 0.5997882\ttest: 0.5937616\tbest: 0.5937616 (330)\ttotal: 2m 40s\tremaining: 5m 24s\n",
      "340:\tlearn: 0.5992284\ttest: 0.5933444\tbest: 0.5933444 (340)\ttotal: 2m 45s\tremaining: 5m 19s\n",
      "350:\tlearn: 0.5986108\ttest: 0.5928675\tbest: 0.5928675 (350)\ttotal: 2m 49s\tremaining: 5m 14s\n",
      "360:\tlearn: 0.5980307\ttest: 0.5923414\tbest: 0.5923414 (360)\ttotal: 2m 54s\tremaining: 5m 9s\n",
      "370:\tlearn: 0.5975172\ttest: 0.5919280\tbest: 0.5919280 (370)\ttotal: 2m 59s\tremaining: 5m 4s\n",
      "380:\tlearn: 0.5970682\ttest: 0.5916651\tbest: 0.5916577 (377)\ttotal: 3m 4s\tremaining: 4m 59s\n",
      "390:\tlearn: 0.5964039\ttest: 0.5910801\tbest: 0.5910801 (390)\ttotal: 3m 9s\tremaining: 4m 54s\n",
      "400:\tlearn: 0.5958270\ttest: 0.5906783\tbest: 0.5906783 (400)\ttotal: 3m 14s\tremaining: 4m 49s\n",
      "410:\tlearn: 0.5952403\ttest: 0.5901665\tbest: 0.5901665 (410)\ttotal: 3m 18s\tremaining: 4m 44s\n",
      "420:\tlearn: 0.5948035\ttest: 0.5899065\tbest: 0.5899065 (420)\ttotal: 3m 23s\tremaining: 4m 40s\n",
      "430:\tlearn: 0.5941442\ttest: 0.5893101\tbest: 0.5893101 (430)\ttotal: 3m 28s\tremaining: 4m 35s\n",
      "440:\tlearn: 0.5936334\ttest: 0.5889254\tbest: 0.5889254 (439)\ttotal: 3m 33s\tremaining: 4m 30s\n",
      "450:\tlearn: 0.5931154\ttest: 0.5885248\tbest: 0.5885248 (450)\ttotal: 3m 38s\tremaining: 4m 25s\n",
      "460:\tlearn: 0.5925665\ttest: 0.5880701\tbest: 0.5880701 (460)\ttotal: 3m 42s\tremaining: 4m 20s\n",
      "470:\tlearn: 0.5920829\ttest: 0.5877426\tbest: 0.5877426 (470)\ttotal: 3m 47s\tremaining: 4m 15s\n",
      "480:\tlearn: 0.5915365\ttest: 0.5873154\tbest: 0.5873154 (480)\ttotal: 3m 52s\tremaining: 4m 10s\n",
      "490:\tlearn: 0.5909455\ttest: 0.5868123\tbest: 0.5868123 (490)\ttotal: 3m 57s\tremaining: 4m 6s\n",
      "500:\tlearn: 0.5903556\ttest: 0.5863115\tbest: 0.5863115 (500)\ttotal: 4m 2s\tremaining: 4m 1s\n",
      "510:\tlearn: 0.5898341\ttest: 0.5859246\tbest: 0.5859246 (509)\ttotal: 4m 7s\tremaining: 3m 56s\n",
      "520:\tlearn: 0.5892834\ttest: 0.5855676\tbest: 0.5855645 (519)\ttotal: 4m 12s\tremaining: 3m 51s\n",
      "530:\tlearn: 0.5887689\ttest: 0.5851917\tbest: 0.5851917 (530)\ttotal: 4m 17s\tremaining: 3m 47s\n",
      "540:\tlearn: 0.5882778\ttest: 0.5848658\tbest: 0.5848658 (540)\ttotal: 4m 21s\tremaining: 3m 42s\n",
      "550:\tlearn: 0.5878301\ttest: 0.5846083\tbest: 0.5846083 (550)\ttotal: 4m 26s\tremaining: 3m 37s\n",
      "560:\tlearn: 0.5872400\ttest: 0.5841597\tbest: 0.5841597 (560)\ttotal: 4m 31s\tremaining: 3m 32s\n",
      "570:\tlearn: 0.5868169\ttest: 0.5839609\tbest: 0.5839476 (569)\ttotal: 4m 36s\tremaining: 3m 27s\n",
      "580:\tlearn: 0.5863212\ttest: 0.5835455\tbest: 0.5835455 (580)\ttotal: 4m 41s\tremaining: 3m 22s\n",
      "590:\tlearn: 0.5858827\ttest: 0.5832973\tbest: 0.5832900 (589)\ttotal: 4m 46s\tremaining: 3m 17s\n",
      "600:\tlearn: 0.5853998\ttest: 0.5829521\tbest: 0.5829521 (600)\ttotal: 4m 50s\tremaining: 3m 13s\n",
      "610:\tlearn: 0.5848424\ttest: 0.5825265\tbest: 0.5825265 (610)\ttotal: 4m 55s\tremaining: 3m 8s\n",
      "620:\tlearn: 0.5843331\ttest: 0.5821506\tbest: 0.5821506 (620)\ttotal: 5m\tremaining: 3m 3s\n",
      "630:\tlearn: 0.5837754\ttest: 0.5817104\tbest: 0.5817104 (630)\ttotal: 5m 5s\tremaining: 2m 58s\n",
      "640:\tlearn: 0.5831933\ttest: 0.5812818\tbest: 0.5812818 (640)\ttotal: 5m 10s\tremaining: 2m 53s\n",
      "650:\tlearn: 0.5826643\ttest: 0.5808637\tbest: 0.5808637 (650)\ttotal: 5m 15s\tremaining: 2m 48s\n",
      "660:\tlearn: 0.5821502\ttest: 0.5804638\tbest: 0.5804638 (660)\ttotal: 5m 19s\tremaining: 2m 44s\n",
      "670:\tlearn: 0.5816147\ttest: 0.5800299\tbest: 0.5800299 (670)\ttotal: 5m 24s\tremaining: 2m 39s\n",
      "680:\tlearn: 0.5811099\ttest: 0.5796702\tbest: 0.5796702 (680)\ttotal: 5m 29s\tremaining: 2m 34s\n",
      "690:\tlearn: 0.5805359\ttest: 0.5791524\tbest: 0.5791524 (690)\ttotal: 5m 34s\tremaining: 2m 29s\n",
      "700:\tlearn: 0.5801680\ttest: 0.5789921\tbest: 0.5789921 (700)\ttotal: 5m 39s\tremaining: 2m 24s\n",
      "710:\tlearn: 0.5795844\ttest: 0.5785165\tbest: 0.5785165 (710)\ttotal: 5m 44s\tremaining: 2m 19s\n",
      "720:\tlearn: 0.5790629\ttest: 0.5781014\tbest: 0.5781014 (720)\ttotal: 5m 49s\tremaining: 2m 15s\n",
      "730:\tlearn: 0.5786074\ttest: 0.5778428\tbest: 0.5778428 (730)\ttotal: 5m 53s\tremaining: 2m 10s\n",
      "740:\tlearn: 0.5781259\ttest: 0.5774604\tbest: 0.5774604 (740)\ttotal: 5m 58s\tremaining: 2m 5s\n",
      "750:\tlearn: 0.5777424\ttest: 0.5773289\tbest: 0.5773289 (750)\ttotal: 6m 3s\tremaining: 2m\n",
      "760:\tlearn: 0.5772468\ttest: 0.5769695\tbest: 0.5769666 (759)\ttotal: 6m 8s\tremaining: 1m 55s\n",
      "770:\tlearn: 0.5766336\ttest: 0.5764640\tbest: 0.5764640 (770)\ttotal: 6m 13s\tremaining: 1m 51s\n",
      "780:\tlearn: 0.5761113\ttest: 0.5760463\tbest: 0.5760463 (780)\ttotal: 6m 18s\tremaining: 1m 46s\n",
      "790:\tlearn: 0.5757537\ttest: 0.5758280\tbest: 0.5758264 (789)\ttotal: 6m 23s\tremaining: 1m 41s\n",
      "800:\tlearn: 0.5753267\ttest: 0.5755603\tbest: 0.5755603 (800)\ttotal: 6m 28s\tremaining: 1m 36s\n",
      "810:\tlearn: 0.5748159\ttest: 0.5751251\tbest: 0.5751251 (810)\ttotal: 6m 32s\tremaining: 1m 31s\n",
      "820:\tlearn: 0.5743871\ttest: 0.5748703\tbest: 0.5748699 (819)\ttotal: 6m 37s\tremaining: 1m 26s\n",
      "830:\tlearn: 0.5740024\ttest: 0.5746721\tbest: 0.5746721 (830)\ttotal: 6m 43s\tremaining: 1m 21s\n",
      "840:\tlearn: 0.5734848\ttest: 0.5743139\tbest: 0.5743139 (840)\ttotal: 6m 47s\tremaining: 1m 17s\n",
      "850:\tlearn: 0.5730574\ttest: 0.5740380\tbest: 0.5740380 (850)\ttotal: 6m 52s\tremaining: 1m 12s\n",
      "860:\tlearn: 0.5726673\ttest: 0.5738353\tbest: 0.5738353 (860)\ttotal: 6m 57s\tremaining: 1m 7s\n",
      "870:\tlearn: 0.5721885\ttest: 0.5734624\tbest: 0.5734620 (869)\ttotal: 7m 2s\tremaining: 1m 2s\n",
      "880:\tlearn: 0.5716570\ttest: 0.5730481\tbest: 0.5730481 (880)\ttotal: 7m 6s\tremaining: 57.7s\n",
      "890:\tlearn: 0.5711323\ttest: 0.5727040\tbest: 0.5727040 (890)\ttotal: 7m 12s\tremaining: 52.8s\n",
      "900:\tlearn: 0.5707024\ttest: 0.5724456\tbest: 0.5724456 (900)\ttotal: 7m 16s\tremaining: 48s\n",
      "910:\tlearn: 0.5702653\ttest: 0.5721516\tbest: 0.5721516 (910)\ttotal: 7m 21s\tremaining: 43.1s\n",
      "920:\tlearn: 0.5698494\ttest: 0.5719495\tbest: 0.5719495 (920)\ttotal: 7m 26s\tremaining: 38.3s\n",
      "930:\tlearn: 0.5694510\ttest: 0.5717393\tbest: 0.5717256 (929)\ttotal: 7m 31s\tremaining: 33.5s\n",
      "940:\tlearn: 0.5690091\ttest: 0.5714174\tbest: 0.5714174 (940)\ttotal: 7m 36s\tremaining: 28.6s\n",
      "950:\tlearn: 0.5685909\ttest: 0.5711997\tbest: 0.5711997 (950)\ttotal: 7m 41s\tremaining: 23.8s\n",
      "960:\tlearn: 0.5681491\ttest: 0.5709524\tbest: 0.5709524 (960)\ttotal: 7m 46s\tremaining: 18.9s\n",
      "970:\tlearn: 0.5677826\ttest: 0.5708366\tbest: 0.5708221 (967)\ttotal: 7m 51s\tremaining: 14.1s\n",
      "980:\tlearn: 0.5673315\ttest: 0.5704902\tbest: 0.5704902 (980)\ttotal: 7m 56s\tremaining: 9.22s\n",
      "990:\tlearn: 0.5668262\ttest: 0.5701401\tbest: 0.5701401 (990)\ttotal: 8m\tremaining: 4.37s\n",
      "999:\tlearn: 0.5664756\ttest: 0.5700172\tbest: 0.5700161 (998)\ttotal: 8m 5s\tremaining: 0us\n",
      "bestTest = 0.5700161442\n",
      "bestIteration = 998\n",
      "Shrink model to first 999 iterations.\n"
     ]
    },
    {
     "data": {
      "text/plain": [
       "<catboost.core.CatBoostClassifier at 0x7ff682ab66d0>"
      ]
     },
     "execution_count": 21,
     "metadata": {},
     "output_type": "execute_result"
    }
   ],
   "source": [
    "CTB.fit(X_train, y_train, eval_set=(X_test, y_test), cat_features = CAT, plot=False, verbose=10)"
   ]
  },
  {
   "cell_type": "code",
   "execution_count": 22,
   "id": "e739a9b5",
   "metadata": {
    "execution": {
     "iopub.execute_input": "2023-01-07T10:37:25.465561Z",
     "iopub.status.busy": "2023-01-07T10:37:25.464892Z",
     "iopub.status.idle": "2023-01-07T10:37:25.901075Z",
     "shell.execute_reply": "2023-01-07T10:37:25.900062Z",
     "shell.execute_reply.started": "2023-01-07T10:37:25.465522Z"
    }
   },
   "outputs": [
    {
     "data": {
      "text/html": [
       "<div>\n",
       "<style scoped>\n",
       "    .dataframe tbody tr th:only-of-type {\n",
       "        vertical-align: middle;\n",
       "    }\n",
       "\n",
       "    .dataframe tbody tr th {\n",
       "        vertical-align: top;\n",
       "    }\n",
       "\n",
       "    .dataframe thead th {\n",
       "        text-align: right;\n",
       "    }\n",
       "</style>\n",
       "<table border=\"1\" class=\"dataframe\">\n",
       "  <thead>\n",
       "    <tr style=\"text-align: right;\">\n",
       "      <th></th>\n",
       "      <th>0</th>\n",
       "      <th>1</th>\n",
       "      <th>2</th>\n",
       "      <th>3</th>\n",
       "      <th>4</th>\n",
       "      <th>5</th>\n",
       "      <th>6</th>\n",
       "      <th>7</th>\n",
       "      <th>8</th>\n",
       "      <th>9</th>\n",
       "      <th>10</th>\n",
       "      <th>11</th>\n",
       "      <th>12</th>\n",
       "      <th>13</th>\n",
       "    </tr>\n",
       "  </thead>\n",
       "  <tbody>\n",
       "    <tr>\n",
       "      <th>Feature Id</th>\n",
       "      <td>hour</td>\n",
       "      <td>timestamp_delta</td>\n",
       "      <td>delta</td>\n",
       "      <td>counter</td>\n",
       "      <td>city</td>\n",
       "      <td>age</td>\n",
       "      <td>dayofweek</td>\n",
       "      <td>exp_group</td>\n",
       "      <td>watched_month</td>\n",
       "      <td>top_month</td>\n",
       "      <td>gender</td>\n",
       "      <td>tfidf</td>\n",
       "      <td>topic</td>\n",
       "      <td>country</td>\n",
       "    </tr>\n",
       "    <tr>\n",
       "      <th>Importances</th>\n",
       "      <td>14.217152</td>\n",
       "      <td>13.646943</td>\n",
       "      <td>12.693311</td>\n",
       "      <td>12.039501</td>\n",
       "      <td>11.32057</td>\n",
       "      <td>9.257857</td>\n",
       "      <td>8.561926</td>\n",
       "      <td>5.436821</td>\n",
       "      <td>5.111326</td>\n",
       "      <td>4.258451</td>\n",
       "      <td>1.22447</td>\n",
       "      <td>0.973098</td>\n",
       "      <td>0.678457</td>\n",
       "      <td>0.580118</td>\n",
       "    </tr>\n",
       "  </tbody>\n",
       "</table>\n",
       "</div>"
      ],
      "text/plain": [
       "                    0                1          2          3         4   \\\n",
       "Feature Id        hour  timestamp_delta      delta    counter      city   \n",
       "Importances  14.217152        13.646943  12.693311  12.039501  11.32057   \n",
       "\n",
       "                   5          6          7              8          9   \\\n",
       "Feature Id        age  dayofweek  exp_group  watched_month  top_month   \n",
       "Importances  9.257857   8.561926   5.436821       5.111326   4.258451   \n",
       "\n",
       "                  10        11        12        13  \n",
       "Feature Id    gender     tfidf     topic   country  \n",
       "Importances  1.22447  0.973098  0.678457  0.580118  "
      ]
     },
     "execution_count": 22,
     "metadata": {},
     "output_type": "execute_result"
    }
   ],
   "source": [
    "CTB.get_feature_importance(prettified=True).T"
   ]
  },
  {
   "cell_type": "code",
   "execution_count": 23,
   "id": "f0f4efa4",
   "metadata": {
    "execution": {
     "iopub.execute_input": "2023-01-07T10:37:25.903430Z",
     "iopub.status.busy": "2023-01-07T10:37:25.902805Z",
     "iopub.status.idle": "2023-01-07T10:38:04.034318Z",
     "shell.execute_reply": "2023-01-07T10:38:04.033277Z",
     "shell.execute_reply.started": "2023-01-07T10:37:25.903394Z"
    }
   },
   "outputs": [
    {
     "name": "stdout",
     "output_type": "stream",
     "text": [
      "              precision    recall  f1-score   support\n",
      "\n",
      "           0       0.94      0.68      0.79   3863021\n",
      "           1       0.24      0.70      0.36    559936\n",
      "\n",
      "    accuracy                           0.68   4422957\n",
      "   macro avg       0.59      0.69      0.58   4422957\n",
      "weighted avg       0.85      0.68      0.74   4422957\n",
      "\n"
     ]
    }
   ],
   "source": [
    "from sklearn.metrics import classification_report, confusion_matrix\n",
    "\n",
    "print(classification_report(y_test, CTB.predict(X_test)))"
   ]
  },
  {
   "cell_type": "code",
   "execution_count": 24,
   "id": "930397e7",
   "metadata": {
    "execution": {
     "iopub.execute_input": "2023-01-07T10:38:04.036649Z",
     "iopub.status.busy": "2023-01-07T10:38:04.035633Z",
     "iopub.status.idle": "2023-01-07T10:38:30.456162Z",
     "shell.execute_reply": "2023-01-07T10:38:30.455023Z",
     "shell.execute_reply.started": "2023-01-07T10:38:04.036611Z"
    }
   },
   "outputs": [
    {
     "name": "stdout",
     "output_type": "stream",
     "text": [
      "Best F-score:  0.37422478443704066\n",
      "Threshold for best F-score:  0.577795548848982\n",
      "Recall for best F-score:  0.5355969253628986\n",
      "Precision for best F-score:  0.28757896674862204\n"
     ]
    }
   ],
   "source": [
    "from sklearn.metrics import precision_recall_curve\n",
    "\n",
    "precision, recall, thresholds = precision_recall_curve(y_test, CTB.predict_proba(X_test)[:,1])\n",
    "\n",
    "f_scores = 2*precision*recall/(precision+recall)\n",
    "f_scores = np.nan_to_num(f_scores)\n",
    "\n",
    "print(\"Best F-score: \", np.max(f_scores))\n",
    "print(\"Threshold for best F-score: \", thresholds[np.argmax(f_scores)])\n",
    "print(\"Recall for best F-score: \",  recall[np.argmax(f_scores)])\n",
    "print(\"Precision for best F-score: \",  precision[np.argmax(f_scores)])"
   ]
  },
  {
   "cell_type": "code",
   "execution_count": 25,
   "id": "a659b00c",
   "metadata": {
    "execution": {
     "iopub.execute_input": "2023-01-07T10:38:30.458194Z",
     "iopub.status.busy": "2023-01-07T10:38:30.457809Z",
     "iopub.status.idle": "2023-01-07T10:38:57.823923Z",
     "shell.execute_reply": "2023-01-07T10:38:57.823017Z",
     "shell.execute_reply.started": "2023-01-07T10:38:30.458154Z"
    }
   },
   "outputs": [
    {
     "name": "stdout",
     "output_type": "stream",
     "text": [
      "ROC-AUC:  0.767\n"
     ]
    },
    {
     "data": {
      "image/png": "[encoded data removed]",
      "text/plain": [
       "<Figure size 432x288 with 1 Axes>"
      ]
     },
     "metadata": {
      "needs_background": "light"
     },
     "output_type": "display_data"
    }
   ],
   "source": [
    "from sklearn.metrics import roc_curve\n",
    "\n",
    "fpr, tpr, thresholds = roc_curve(y_test, CTB.predict_proba(X_test)[:,1])\n",
    "\n",
    "from sklearn.metrics import RocCurveDisplay, auc\n",
    "\n",
    "RocCurveDisplay(fpr=fpr, tpr=tpr).plot()\n",
    "print(\"ROC-AUC: \", round(auc(fpr, tpr),3))"
   ]
  },
  {
   "cell_type": "code",
   "execution_count": 26,
   "id": "12ea7bd0",
   "metadata": {
    "execution": {
     "iopub.execute_input": "2023-01-07T10:38:57.825832Z",
     "iopub.status.busy": "2023-01-07T10:38:57.825472Z",
     "iopub.status.idle": "2023-01-07T10:38:59.048772Z",
     "shell.execute_reply": "2023-01-07T10:38:59.047046Z",
     "shell.execute_reply.started": "2023-01-07T10:38:57.825795Z"
    }
   },
   "outputs": [
    {
     "name": "stdout",
     "output_type": "stream",
     "text": [
      "RR-AUC:  0.323\n"
     ]
    },
    {
     "data": {
      "image/png": "[encoded data removed]",
      "text/plain": [
       "<Figure size 432x288 with 1 Axes>"
      ]
     },
     "metadata": {
      "needs_background": "light"
     },
     "output_type": "display_data"
    }
   ],
   "source": [
    "from sklearn.metrics import PrecisionRecallDisplay\n",
    "\n",
    "PrecisionRecallDisplay(precision=precision, recall=recall).plot()\n",
    "print(\"RR-AUC: \", round(auc(recall, precision),3))"
   ]
  },
  {
   "cell_type": "code",
   "execution_count": 27,
   "id": "ccdfe002",
   "metadata": {
    "execution": {
     "iopub.execute_input": "2023-01-07T10:38:59.050913Z",
     "iopub.status.busy": "2023-01-07T10:38:59.050053Z",
     "iopub.status.idle": "2023-01-07T10:38:59.399363Z",
     "shell.execute_reply": "2023-01-07T10:38:59.398286Z",
     "shell.execute_reply.started": "2023-01-07T10:38:59.050874Z"
    }
   },
   "outputs": [],
   "source": [
    "CTB.save_model('Model', format=\"cbm\")"
   ]
  },
  {
   "cell_type": "code",
   "execution_count": 28,
   "id": "087a9872",
   "metadata": {
    "execution": {
     "iopub.execute_input": "2023-01-07T10:38:59.400911Z",
     "iopub.status.busy": "2023-01-07T10:38:59.400546Z",
     "iopub.status.idle": "2023-01-07T10:38:59.413104Z",
     "shell.execute_reply": "2023-01-07T10:38:59.412150Z",
     "shell.execute_reply.started": "2023-01-07T10:38:59.400870Z"
    }
   },
   "outputs": [
    {
     "name": "stdout",
     "output_type": "stream",
     "text": [
      "Tree count:  999\n"
     ]
    }
   ],
   "source": [
    " print(\"Tree count: \", CTB.tree_count_)"
   ]
  }
 ],
 "metadata": {
  "kernelspec": {
   "display_name": "Python 3 (ipykernel)",
   "language": "python",
   "name": "python3"
  },
  "language_info": {
   "codemirror_mode": {
    "name": "ipython",
    "version": 3
   },
   "file_extension": ".py",
   "mimetype": "text/x-python",
   "name": "python",
   "nbconvert_exporter": "python",
   "pygments_lexer": "ipython3",
   "version": "3.9.13"
  }
 },
 "nbformat": 4,
 "nbformat_minor": 5
}
